import datetime as dt
import pandas as pd


days=365
dates=pd.date_range(start='1/1/2024', periods=days)
dates


df=pd.DataFrame(range(days), columns=['number'], index=dates)
dw=df.loc[df.index.isocalendar().week == 32].copy()
dw['day'] = dw.index.day_name()


type(df)



