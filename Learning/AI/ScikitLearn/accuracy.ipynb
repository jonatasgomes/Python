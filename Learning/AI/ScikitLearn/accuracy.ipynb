{
  "nbformat": 4,
  "nbformat_minor": 0,
  "metadata": {
    "colab": {
      "provenance": []
    },
    "kernelspec": {
      "name": "python3",
      "display_name": "Python 3"
    },
    "language_info": {
      "name": "python"
    }
  },
  "cells": [
    {
      "cell_type": "code",
      "execution_count": 1,
      "metadata": {
        "colab": {
          "base_uri": "https://localhost:8080/"
        },
        "id": "dbV5rs-BDG17",
        "outputId": "2eeacd75-0f1a-4b4c-b3b8-0b10b7cce906"
      },
      "outputs": [
        {
          "output_type": "stream",
          "name": "stdout",
          "text": [
            "Accuracy KNN: 0.7407407407407407\n",
            "Precision KNN: 0.7447530864197531\n",
            "Recall KNN: 0.7407407407407407\n",
            "F1 Score KNN: 0.7424072516587236\n",
            "Confusion Matrix KNN:\n",
            "[[17  0  2]\n",
            " [ 1 15  5]\n",
            " [ 1  5  8]]\n"
          ]
        }
      ],
      "source": [
        "from sklearn.model_selection import train_test_split\n",
        "from sklearn.datasets import load_wine\n",
        "from sklearn.metrics import accuracy_score, precision_score, recall_score, f1_score, confusion_matrix\n",
        "from sklearn.neighbors import KNeighborsClassifier\n",
        "import pandas as pd\n",
        "\n",
        "wine = load_wine()\n",
        "x_train, x_test, y_train, y_test = train_test_split(wine.data, wine.target, test_size=0.3, random_state=42)\n",
        "\n",
        "model_knn = KNeighborsClassifier()\n",
        "model_knn.fit(x_train, y_train)\n",
        "y_pred_knn = model_knn.predict(x_test)\n",
        "\n",
        "accuracy_knn = accuracy_score(y_test, y_pred_knn)\n",
        "print(f'Accuracy KNN: {accuracy_knn}')\n",
        "\n",
        "precision_knn = precision_score(y_test, y_pred_knn, average='weighted')\n",
        "print(f'Precision KNN: {precision_knn}')\n",
        "\n",
        "recall_knn = recall_score(y_test, y_pred_knn, average='weighted')\n",
        "print(f'Recall KNN: {recall_knn}')\n",
        "\n",
        "f1_knn = f1_score(y_test, y_pred_knn, average='weighted')\n",
        "print(f'F1 Score KNN: {f1_knn}')\n",
        "\n",
        "confusion_knn = confusion_matrix(y_test, y_pred_knn)\n",
        "print(f'Confusion Matrix KNN:\\n{confusion_knn}')"
      ]
    },
    {
      "cell_type": "code",
      "source": [
        "import pandas as pd\n",
        "from sklearn.model_selection import train_test_split\n",
        "from sklearn.datasets import fetch_california_housing\n",
        "from sklearn.ensemble import RandomForestRegressor\n",
        "from sklearn.metrics import mean_squared_error, mean_absolute_error, mean_absolute_percentage_error, r2_score\n",
        "import numpy as np\n",
        "\n",
        "housing = fetch_california_housing()\n",
        "x = pd.DataFrame(housing.data, columns=housing.feature_names)\n",
        "y = pd.Series(housing.target, name='MedHouseVal')\n",
        "\n",
        "x_train, x_test, y_train, y_test = train_test_split(x, y, test_size=0.3, random_state=42)\n",
        "\n",
        "model_rf = RandomForestRegressor()\n",
        "model_rf.fit(x_train, y_train)\n",
        "y_pred_rf = model_rf.predict(x_test)\n",
        "\n",
        "mse_rf = mean_squared_error(y_test, y_pred_rf)\n",
        "print(f'Mean Squared Error RF: {mse_rf:.2f}')\n",
        "rmse_rf = np.sqrt(mse_rf)\n",
        "print(f'Root Mean Squared Error RF: {rmse_rf:.2f}')\n",
        "mae_rf = mean_absolute_error(y_test, y_pred_rf)\n",
        "print(f'Mean Absolute Error RF: {mae_rf:.2f}')\n",
        "mape_rf = mean_absolute_percentage_error(y_test, y_pred_rf)\n",
        "print(f'Mean Absolute Percentage Error RF: {mape_rf:.2f}')\n",
        "r2_score_rf = r2_score(y_test, y_pred_rf)\n",
        "print(f'R2 Score RF: {r2_score_rf:.2f}')"
      ],
      "metadata": {
        "colab": {
          "base_uri": "https://localhost:8080/"
        },
        "id": "3lxVutHmi-NW",
        "outputId": "3cbee960-e2ea-4a69-cfa8-b86b22ac2ad0"
      },
      "execution_count": 5,
      "outputs": [
        {
          "output_type": "stream",
          "name": "stdout",
          "text": [
            "Mean Squared Error RF: 0.25\n",
            "Root Mean Squared Error RF: 0.50\n",
            "Mean Absolute Error RF: 0.33\n",
            "Mean Absolute Percentage Error RF: 0.19\n",
            "R2 Score RF: 0.81\n"
          ]
        }
      ]
    }
  ]
}