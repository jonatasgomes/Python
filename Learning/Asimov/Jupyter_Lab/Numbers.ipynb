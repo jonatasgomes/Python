{
 "cells": [
  {
   "cell_type": "code",
   "execution_count": 34,
   "id": "0f31046a-2220-4e1a-bc89-df89bfde8dfa",
   "metadata": {
    "tags": []
   },
   "outputs": [
    {
     "name": "stdout",
     "output_type": "stream",
     "text": [
      "7\n",
      "8\n",
      "9\n",
      "10\n"
     ]
    }
   ],
   "source": [
    "for i in range(7, 11):\n",
    "    print(i)"
   ]
  },
  {
   "cell_type": "code",
   "execution_count": 53,
   "id": "3d53a9a2-f453-4889-ba46-35dde1ab135b",
   "metadata": {},
   "outputs": [
    {
     "name": "stdout",
     "output_type": "stream",
     "text": [
      "1\n",
      "2\n",
      "3\n",
      "4\n",
      "6\n",
      "7\n",
      "8\n",
      "9\n",
      "10\n",
      "done\n"
     ]
    }
   ],
   "source": [
    "i = 0\n",
    "while i < 10:\n",
    "    i += 1\n",
    "    if i == 5:\n",
    "        continue\n",
    "    print(i)\n",
    "else:\n",
    "    print('done')"
   ]
  },
  {
   "cell_type": "code",
   "execution_count": 62,
   "id": "d05a5cbf-9393-4911-a429-9e12155840e1",
   "metadata": {
    "tags": []
   },
   "outputs": [
    {
     "data": {
      "text/plain": [
       "[2, 3, 4, 6, 7, 8]"
      ]
     },
     "execution_count": 62,
     "metadata": {},
     "output_type": "execute_result"
    }
   ],
   "source": [
    "[i for i in range(10) if 2<=i<=8 and i!=5]"
   ]
  },
  {
   "cell_type": "code",
   "execution_count": 84,
   "id": "d78c395c-7e4a-41db-b9b2-b002feaef173",
   "metadata": {
    "tags": []
   },
   "outputs": [],
   "source": [
    "def impares(to = 10) -> int:\n",
    "    return [i for i in range(to) if i%2 == 1]"
   ]
  },
  {
   "cell_type": "code",
   "execution_count": 85,
   "id": "55485dee-71e9-4605-980b-6ef8a8993022",
   "metadata": {
    "tags": []
   },
   "outputs": [
    {
     "data": {
      "text/plain": [
       "[1, 3, 5, 7, 9]"
      ]
     },
     "execution_count": 85,
     "metadata": {},
     "output_type": "execute_result"
    }
   ],
   "source": [
    "impares()"
   ]
  },
  {
   "cell_type": "code",
   "execution_count": 82,
   "id": "c8c3bea4-f351-4ce8-9722-902a07cacc8f",
   "metadata": {
    "tags": []
   },
   "outputs": [],
   "source": [
    "def empty():\n",
    "    pass"
   ]
  },
  {
   "cell_type": "code",
   "execution_count": 83,
   "id": "0873603e-71bd-4b2d-8e10-030911b11cf8",
   "metadata": {
    "tags": []
   },
   "outputs": [],
   "source": [
    "empty()"
   ]
  },
  {
   "cell_type": "code",
   "execution_count": 87,
   "id": "60a6a40e-b1c3-4f74-80ff-bb1183a543a0",
   "metadata": {
    "tags": []
   },
   "outputs": [
    {
     "data": {
      "text/plain": [
       "list"
      ]
     },
     "execution_count": 87,
     "metadata": {},
     "output_type": "execute_result"
    }
   ],
   "source": [
    "type(impares())"
   ]
  },
  {
   "cell_type": "code",
   "execution_count": 94,
   "id": "2bf1e860-58e4-47d1-9a6b-ce8ee432bc6c",
   "metadata": {
    "tags": []
   },
   "outputs": [
    {
     "data": {
      "text/plain": [
       "1728"
      ]
     },
     "execution_count": 94,
     "metadata": {},
     "output_type": "execute_result"
    }
   ],
   "source": [
    "(lambda x: x**3)(12)"
   ]
  },
  {
   "cell_type": "code",
   "execution_count": null,
   "id": "5a6783a5-8634-4c8a-be16-6d747aa11eea",
   "metadata": {},
   "outputs": [],
   "source": []
  }
 ],
 "metadata": {
  "kernelspec": {
   "display_name": "Python 3 (ipykernel)",
   "language": "python",
   "name": "python3"
  },
  "language_info": {
   "codemirror_mode": {
    "name": "ipython",
    "version": 3
   },
   "file_extension": ".py",
   "mimetype": "text/x-python",
   "name": "python",
   "nbconvert_exporter": "python",
   "pygments_lexer": "ipython3",
   "version": "3.11.4"
  }
 },
 "nbformat": 4,
 "nbformat_minor": 5
}
